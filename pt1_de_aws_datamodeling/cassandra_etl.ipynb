{
 "cells": [
  {
   "cell_type": "markdown",
   "metadata": {},
   "source": [
    "# Part I. ETL Pipeline for Pre-Processing the Files"
   ]
  },
  {
   "cell_type": "markdown",
   "metadata": {},
   "source": [
    "#### Import Python packages "
   ]
  },
  {
   "cell_type": "code",
   "execution_count": 1,
   "metadata": {},
   "outputs": [],
   "source": [
    "# Import Python packages \n",
    "import pandas as pd\n",
    "import cassandra\n",
    "import re\n",
    "import os\n",
    "import glob\n",
    "import numpy as np\n",
    "import json\n",
    "import csv"
   ]
  },
  {
   "cell_type": "markdown",
   "metadata": {},
   "source": [
    "#### Creating list of filepaths to process original event csv data files"
   ]
  },
  {
   "cell_type": "code",
   "execution_count": 2,
   "metadata": {},
   "outputs": [
    {
     "name": "stdout",
     "output_type": "stream",
     "text": [
      "/workspace/home\n"
     ]
    }
   ],
   "source": [
    "# checking your current working directory\n",
    "print(os.getcwd())\n",
    "\n",
    "# Get your current folder and subfolder event data\n",
    "filepath = os.getcwd() + '/event_data'\n",
    "\n",
    "# Create a for loop to create a list of files and collect each filepath\n",
    "for root, dirs, files in os.walk(filepath):\n",
    "    \n",
    "# join the file path and roots with the subdirectories using glob\n",
    "    file_path_list = glob.glob(os.path.join(root,'*'))"
   ]
  },
  {
   "cell_type": "markdown",
   "metadata": {},
   "source": [
    "#### Processing the files to create the data file csv that will be used for Apache Casssandra tables"
   ]
  },
  {
   "cell_type": "code",
   "execution_count": 3,
   "metadata": {},
   "outputs": [],
   "source": [
    "# initiating an empty list of rows that will be generated from each file\n",
    "full_data_rows_list = [] \n",
    "    \n",
    "# for every filepath in the file path list \n",
    "for f in file_path_list:\n",
    "\n",
    "# reading csv file \n",
    "    with open(f, 'r', encoding = 'utf8', newline='') as csvfile: \n",
    "        # creating a csv reader object \n",
    "        csvreader = csv.reader(csvfile) \n",
    "        next(csvreader)\n",
    "        \n",
    " # extracting each data row one by one and append it        \n",
    "        for line in csvreader:\n",
    "            #print(line)\n",
    "            full_data_rows_list.append(line) \n",
    "            \n",
    "# Apache Cassandra tables\n",
    "csv.register_dialect('myDialect', quoting=csv.QUOTE_ALL, skipinitialspace=True)\n",
    "\n",
    "with open('event_datafile_new.csv', 'w', encoding = 'utf8', newline='') as f:\n",
    "    writer = csv.writer(f, dialect='myDialect')\n",
    "    writer.writerow([\n",
    "        'artist',\n",
    "        'firstName',\n",
    "        'gender',\n",
    "        'itemInSession',\n",
    "        'lastName',\n",
    "        'length',\n",
    "        'level',\n",
    "        'location',\n",
    "        'sessionId',\n",
    "        'song',\n",
    "        'userId'\n",
    "        ]\n",
    "    )\n",
    "    for row in full_data_rows_list:\n",
    "        if (row[0] == ''):\n",
    "            continue\n",
    "        writer.writerow((row[0], row[2], row[3], row[4], row[5], row[6], row[7], row[8], row[12], row[13], row[16]))\n"
   ]
  },
  {
   "cell_type": "markdown",
   "metadata": {},
   "source": [
    "#### Creating a Cluster"
   ]
  },
  {
   "cell_type": "code",
   "execution_count": 4,
   "metadata": {},
   "outputs": [],
   "source": [
    "# This should make a connection to a Cassandra instance your local machine \n",
    "# (127.0.0.1)\n",
    "\n",
    "from cassandra.cluster import Cluster\n",
    "cluster = Cluster()\n",
    "\n",
    "# To establish connection and begin executing queries, need a session\n",
    "session = cluster.connect()"
   ]
  },
  {
   "cell_type": "markdown",
   "metadata": {},
   "source": [
    "#### Create Keyspace"
   ]
  },
  {
   "cell_type": "code",
   "execution_count": 5,
   "metadata": {},
   "outputs": [],
   "source": [
    "# Create a Keyspace \n",
    "\n",
    "try:\n",
    "    session.execute(\"\"\"\n",
    "        CREATE KEYSPACE IF NOT EXISTS project\n",
    "        WITH REPLICATION = {\n",
    "        'class': 'SimpleStrategy', \n",
    "        'replication_factor':1\n",
    "        }\n",
    "    \"\"\")\n",
    "except Exception as e:\n",
    "    print(e)"
   ]
  },
  {
   "cell_type": "markdown",
   "metadata": {},
   "source": [
    "#### Set Keyspace"
   ]
  },
  {
   "cell_type": "code",
   "execution_count": 6,
   "metadata": {},
   "outputs": [],
   "source": [
    "# Set KEYSPACE to the keyspace specified above\n",
    "try:\n",
    "    session.set_keyspace(\"project\")\n",
    "except Exception as e:\n",
    "    print(e)"
   ]
  },
  {
   "cell_type": "markdown",
   "metadata": {},
   "source": [
    "# Part II. Creating tables and QA the following queries."
   ]
  },
  {
   "cell_type": "markdown",
   "metadata": {},
   "source": [
    "### 1. Artist, song title and song's length in the music app history that was heard during  sessionId = 338, and itemInSession  = 4"
   ]
  },
  {
   "cell_type": "markdown",
   "metadata": {},
   "source": [
    "#### A: So, during sessionId = 338 and itemInSession = 4, the song \"Music Matters (Mark Knight Dub)\" by the artist \"Faithless\" with a length of approximately 495 seconds was heard in the music app history."
   ]
  },
  {
   "cell_type": "code",
   "execution_count": 7,
   "metadata": {},
   "outputs": [],
   "source": [
    "# Define a CQL (Cassandra Query Language) query to create a table if it does not already exist.\n",
    "query = \"\"\"\n",
    "    CREATE TABLE IF NOT EXISTS artist_songs (\n",
    "        sessionId INT,\n",
    "        itemInSession INT,\n",
    "        artist TEXT,\n",
    "        length FLOAT,\n",
    "        song TEXT,\n",
    "        PRIMARY KEY (sessionId, itemInSession, song)\n",
    "    )\n",
    "\"\"\"\n",
    "\n",
    "# Attempt to execute the above query using a Cassandra session.\n",
    "try:\n",
    "    session.execute(query)\n",
    "except Exception as e:\n",
    "    # If an exception occurs during execution, print the error message.\n",
    "    print(e)"
   ]
  },
  {
   "cell_type": "code",
   "execution_count": null,
   "metadata": {
    "scrolled": false
   },
   "outputs": [],
   "source": [
    "# Define the path to the CSV file to be read.\n",
    "file = 'event_datafile_new.csv'\n",
    "\n",
    "# Open the CSV file for reading with UTF-8 encoding.\n",
    "with open(file, encoding='utf8') as f:\n",
    "    # Create a CSV reader object.\n",
    "    csvreader = csv.reader(f)\n",
    "    \n",
    "    # Skip the header row (the first row) of the CSV file.\n",
    "    next(csvreader)\n",
    "    \n",
    "    # Iterate through each line in the CSV file.\n",
    "    for line in csvreader:\n",
    "        # Define an initial CQL query for inserting data into the Cassandra table.\n",
    "        query = \"\"\"\n",
    "            INSERT INTO artist_songs (\n",
    "                sessionId,\n",
    "                itemInSession,\n",
    "                artist,\n",
    "                length,\n",
    "                song\n",
    "            )\n",
    "        \"\"\"\n",
    "        \n",
    "        # Add the \"VALUES\" clause to the query and specify placeholders for values.\n",
    "        query = query + \"VALUES (%s, %s, %s, %s, %s)\"\n",
    "        \n",
    "        # Extract values from the current CSV line and execute the query with those values.\n",
    "        session.execute(query, (int(line[8]), int(line[3]), line[0], float(line[5]), line[9]))\n"
   ]
  },
  {
   "cell_type": "code",
   "execution_count": null,
   "metadata": {
    "scrolled": true
   },
   "outputs": [],
   "source": [
    "# Define a CQL (Cassandra Query Language) query to retrieve data from the Cassandra table.\n",
    "query = \"\"\"\n",
    "    SELECT\n",
    "        artist,\n",
    "        length,\n",
    "        song\n",
    "    FROM artist_songs\n",
    "    WHERE\n",
    "        sessionId = 338\n",
    "        AND itemInSession = 4\n",
    "\"\"\"\n",
    "\n",
    "# Attempt to execute the query using a Cassandra session.\n",
    "try:\n",
    "    # Execute the query and store the result in the \"rows\" variable.\n",
    "    rows = session.execute(query)\n",
    "except Exception as e:\n",
    "    # If an exception occurs during execution, print the error message.\n",
    "    print(e)\n",
    "\n",
    "# Iterate through the rows of the result set and print each row.\n",
    "for row in rows:\n",
    "    print(row)"
   ]
  },
  {
   "cell_type": "markdown",
   "metadata": {},
   "source": [
    "### 2. Name of artist, song (sorted by itemInSession) and user (first and last name) for userid = 10, sessionid = 182"
   ]
  },
  {
   "cell_type": "markdown",
   "metadata": {},
   "source": [
    "#### A: For userid = 10 and sessionid = 182, the following songs were played, and their details are sorted by iteminsession:\n",
    "\n",
    "Song Title: Keep On Keepin' On\n",
    "\n",
    "* Artist: Down To The Bone\n",
    "* User: Sylvie Cruz (first name: Sylvie, last name: Cruz)  \n",
    "* Item in Session: 0  \n",
    "\n",
    "Song Title: Greece 2000\n",
    "\n",
    "* Artist: Three Drives\n",
    "* User: Sylvie Cruz (first name: Sylvie, last name: Cruz)  \n",
    "* Item in Session: 1  \n",
    "\n",
    "Song Title: Kilometer  \n",
    "\n",
    "* Artist: Sebastien Tellier\n",
    "* User: Sylvie Cruz (first name: Sylvie, last name: Cruz)  \n",
    "* Item in Session: 2  \n",
    "\n",
    "Song Title: Catch You Baby (Steve Pitron & Max Sanna Radio Edit)\n",
    "\n",
    "* Artist: Lonnie Gordon  \n",
    "* User: Sylvie Cruz (first name: Sylvie, last name: Cruz)  \n",
    "* Item in Session: 3  "
   ]
  },
  {
   "cell_type": "code",
   "execution_count": null,
   "metadata": {},
   "outputs": [],
   "source": [
    "# Define a CQL (Cassandra Query Language) query to create a table if it does not already exist.\n",
    "query = \"\"\"\n",
    "    CREATE TABLE IF NOT EXISTS user_session_songs (\n",
    "        userId INT,\n",
    "        sessionId INT,\n",
    "        itemInSession INT,\n",
    "        artist TEXT,\n",
    "        song TEXT,\n",
    "        firstName TEXT,\n",
    "        lastName TEXT,\n",
    "        PRIMARY KEY (userId, sessionId, itemInSession)\n",
    "    ) WITH CLUSTERING ORDER BY (sessionId ASC, itemInSession ASC)\n",
    "\"\"\"\n",
    "\n",
    "# Attempt to execute the above query using a Cassandra session.\n",
    "try:\n",
    "    session.execute(query)\n",
    "except Exception as e:\n",
    "    # If an exception occurs during execution, print the error message.\n",
    "    print(e)"
   ]
  },
  {
   "cell_type": "code",
   "execution_count": null,
   "metadata": {},
   "outputs": [],
   "source": [
    "# Define the path to the CSV file to be read.\n",
    "file = 'event_datafile_new.csv'\n",
    "\n",
    "# Open the CSV file for reading with UTF-8 encoding.\n",
    "with open(file, encoding='utf8') as f:\n",
    "    # Create a CSV reader object.\n",
    "    csvreader = csv.reader(f)\n",
    "    \n",
    "    # Skip the header row (the first row) of the CSV file.\n",
    "    next(csvreader)\n",
    "    \n",
    "    # Iterate through each line of the CSV file.\n",
    "    for line in csvreader:\n",
    "        # Define an initial CQL query for inserting data into the Cassandra table.\n",
    "        query = \"\"\"\n",
    "            INSERT INTO user_session_songs (\n",
    "                userId,\n",
    "                sessionId,\n",
    "                itemInSession,\n",
    "                artist,\n",
    "                song,\n",
    "                firstName,\n",
    "                lastName\n",
    "            )\n",
    "        \"\"\"\n",
    "        \n",
    "        # Add the \"VALUES\" clause to the query and specify placeholders for values.\n",
    "        query = query + \"VALUES (%s, %s, %s, %s, %s, %s, %s)\"\n",
    "        \n",
    "        # Extract values from the current CSV line and execute the query with those values.\n",
    "        session.execute(query, (int(line[10]), int(line[8]), int(line[3]), line[0], line[9], line[1], line[4]))"
   ]
  },
  {
   "cell_type": "code",
   "execution_count": null,
   "metadata": {},
   "outputs": [],
   "source": [
    "# Define a CQL (Cassandra Query Language) query to retrieve data from the Cassandra table.\n",
    "query = \"\"\"\n",
    "    SELECT\n",
    "        itemInSession,\n",
    "        artist,\n",
    "        song,\n",
    "        firstName,\n",
    "        lastName\n",
    "    FROM user_session_songs\n",
    "    WHERE\n",
    "        userId = 10\n",
    "        AND sessionId = 182\n",
    "\"\"\"\n",
    "\n",
    "# Attempt to execute the query using a Cassandra session.\n",
    "try:\n",
    "    # Execute the query and store the result in the \"rows\" variable.\n",
    "    rows = session.execute(query)\n",
    "except Exception as e:\n",
    "    # If an exception occurs during execution, print the error message.\n",
    "    print(e)\n",
    "\n",
    "# Iterate through the rows of the result set and print each row.\n",
    "for row in rows:\n",
    "    print(row)"
   ]
  },
  {
   "cell_type": "markdown",
   "metadata": {},
   "source": [
    "### 3. Every user name (first and last) in my music app history who listened to the song 'All Hands Against His Own'"
   ]
  },
  {
   "cell_type": "markdown",
   "metadata": {},
   "source": [
    "#### A: The following users listened to the specified song:\n",
    "* Jacqueline Lynch\n",
    "* Sara Johnson\n",
    "* Tegan Levine"
   ]
  },
  {
   "cell_type": "code",
   "execution_count": null,
   "metadata": {},
   "outputs": [],
   "source": [
    "# Define a CQL (Cassandra Query Language) query to create a table if it does not already exist.\n",
    "query = \"\"\"\n",
    "    CREATE TABLE IF NOT EXISTS song_listeners (\n",
    "        song TEXT,\n",
    "        userId INT,\n",
    "        firstName TEXT,\n",
    "        lastName TEXT,\n",
    "        PRIMARY KEY (song, userId)\n",
    "    )\n",
    "\"\"\"\n",
    "\n",
    "# Attempt to execute the above query using a Cassandra session.\n",
    "try:\n",
    "    session.execute(query)\n",
    "except Exception as e:\n",
    "    # If an exception occurs during execution, print the error message.\n",
    "    print(e)"
   ]
  },
  {
   "cell_type": "code",
   "execution_count": null,
   "metadata": {},
   "outputs": [],
   "source": [
    "# Define the path to the CSV file to be read.\n",
    "file = 'event_datafile_new.csv'\n",
    "\n",
    "# Open the CSV file for reading with UTF-8 encoding.\n",
    "with open(file, encoding='utf8') as f:\n",
    "    # Create a CSV reader object.\n",
    "    csvreader = csv.reader(f)\n",
    "    \n",
    "    # Skip the header row (the first row) of the CSV file.\n",
    "    next(csvreader)\n",
    "    \n",
    "    # Iterate through each line in the CSV file.\n",
    "    for line in csvreader:\n",
    "        # Define an initial CQL query for inserting data into the Cassandra table.\n",
    "        query = \"\"\"\n",
    "            INSERT INTO song_listeners (\n",
    "                song,\n",
    "                userId,\n",
    "                firstName,\n",
    "                lastName\n",
    "            )\n",
    "        \"\"\"\n",
    "        \n",
    "        # Add the \"VALUES\" clause to the query and specify placeholders for values.\n",
    "        query = query + \"VALUES (%s, %s, %s, %s)\"\n",
    "        \n",
    "        # Extract values from the current CSV line and execute the query with those values.\n",
    "        session.execute(query, (line[9], int(line[10]), line[1], line[4]))\n"
   ]
  },
  {
   "cell_type": "code",
   "execution_count": null,
   "metadata": {},
   "outputs": [],
   "source": [
    "# Define a CQL (Cassandra Query Language) query to retrieve data from the Cassandra table.\n",
    "query = \"\"\"\n",
    "    SELECT\n",
    "        userId,\n",
    "        firstName,\n",
    "        lastName\n",
    "    FROM song_listeners\n",
    "    WHERE\n",
    "        song = 'All Hands Against His Own'\n",
    "\"\"\"\n",
    "\n",
    "# Attempt to execute the query using a Cassandra session.\n",
    "try:\n",
    "    # Execute the query and store the result in the \"rows\" variable.\n",
    "    rows = session.execute(query)\n",
    "except Exception as e:\n",
    "    # If an exception occurs during execution, print the error message.\n",
    "    print(e)\n",
    "\n",
    "# Iterate through the rows of the result set and print each row.\n",
    "for row in rows:\n",
    "    print(row)\n"
   ]
  },
  {
   "cell_type": "markdown",
   "metadata": {},
   "source": [
    "### Drop the tables before closing out the sessions"
   ]
  },
  {
   "cell_type": "code",
   "execution_count": null,
   "metadata": {},
   "outputs": [],
   "source": [
    "tables = [\"artist_songs\", \"user_session_songs\", \"song_listeners\"]\n",
    "\n",
    "\n",
    "for tb in tables:\n",
    "    try:\n",
    "        rows = session.execute(\"DROP TABLE \"+tb)\n",
    "    except Exception as e:\n",
    "        print(e)"
   ]
  },
  {
   "cell_type": "markdown",
   "metadata": {},
   "source": [
    "### Close the session and cluster connection¶"
   ]
  },
  {
   "cell_type": "code",
   "execution_count": null,
   "metadata": {},
   "outputs": [],
   "source": [
    "session.shutdown()\n",
    "cluster.shutdown()"
   ]
  },
  {
   "cell_type": "code",
   "execution_count": null,
   "metadata": {},
   "outputs": [],
   "source": []
  }
 ],
 "metadata": {
  "kernelspec": {
   "display_name": "Python 3",
   "language": "python",
   "name": "python3"
  },
  "language_info": {
   "codemirror_mode": {
    "name": "ipython",
    "version": 3
   },
   "file_extension": ".py",
   "mimetype": "text/x-python",
   "name": "python",
   "nbconvert_exporter": "python",
   "pygments_lexer": "ipython3",
   "version": "3.6.3"
  }
 },
 "nbformat": 4,
 "nbformat_minor": 2
}
