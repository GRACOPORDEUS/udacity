{
 "cells": [
  {
   "cell_type": "code",
   "execution_count": 1,
   "metadata": {},
   "outputs": [
    {
     "name": "stdout",
     "output_type": "stream",
     "text": [
      "Part 1: Dropping Tables\n",
      "Part 2: Creating Tables\n",
      "Part 3: Copying Data to Staging Tables\n",
      "Part 4: Inserting Data into Final Tables\n",
      "Done!\n"
     ]
    }
   ],
   "source": [
    "!python create_tables.py"
   ]
  },
  {
   "cell_type": "code",
   "execution_count": 2,
   "metadata": {},
   "outputs": [
    {
     "name": "stdout",
     "output_type": "stream",
     "text": [
      "Part 1: Dropping Tables\n",
      "Part 2: Creating Tables\n",
      "Part 3: Copying Data to Staging Tables\n",
      "Part 4: Inserting Data into Final Tables\n",
      "Done!\n"
     ]
    }
   ],
   "source": [
    "!python etl.py"
   ]
  },
  {
   "cell_type": "code",
   "execution_count": 4,
   "metadata": {},
   "outputs": [
    {
     "name": "stdout",
     "output_type": "stream",
     "text": [
      "Part 1: Dropping Tables\n",
      "Part 2: Creating Tables\n",
      "Part 3: Copying Data to Staging Tables\n",
      "Part 4: Inserting Data into Final Tables\n",
      "Part 4: Counting Tables\n",
      "Done!\n",
      "\n",
      "    SELECT COUNT(*) FROM staging_events\n",
      "\n",
      "Query Result:\n",
      "(8056,)\n",
      "\n",
      "    SELECT COUNT(*) FROM staging_songs\n",
      "\n",
      "Query Result:\n",
      "(14896,)\n",
      "\n",
      "    SELECT COUNT(*) FROM songplays\n",
      "\n",
      "Query Result:\n",
      "(9957,)\n",
      "\n",
      "    SELECT COUNT(*) FROM users\n",
      "\n",
      "Query Result:\n",
      "(104,)\n",
      "\n",
      "    SELECT COUNT(*) FROM songs\n",
      "\n",
      "Query Result:\n",
      "(14896,)\n",
      "\n",
      "    SELECT COUNT(*) FROM artists\n",
      "\n",
      "Query Result:\n",
      "(10025,)\n",
      "\n",
      "    SELECT COUNT(*) FROM time\n",
      "\n",
      "Query Result:\n",
      "(8023,)\n"
     ]
    }
   ],
   "source": [
    "!python count_table.py"
   ]
  },
  {
   "cell_type": "code",
   "execution_count": null,
   "metadata": {},
   "outputs": [],
   "source": []
  }
 ],
 "metadata": {
  "kernelspec": {
   "display_name": "dsd",
   "language": "python",
   "name": "python3"
  },
  "language_info": {
   "codemirror_mode": {
    "name": "ipython",
    "version": 3
   },
   "file_extension": ".py",
   "mimetype": "text/x-python",
   "name": "python",
   "nbconvert_exporter": "python",
   "pygments_lexer": "ipython3",
   "version": "3.10.13"
  }
 },
 "nbformat": 4,
 "nbformat_minor": 2
}
